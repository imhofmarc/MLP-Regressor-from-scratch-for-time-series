{
 "cells": [
  {
   "cell_type": "markdown",
   "id": "6ed8c08a",
   "metadata": {},
   "source": [
    "I./ Pré traitement  "
   ]
  },
  {
   "cell_type": "markdown",
   "id": "a85621be",
   "metadata": {},
   "source": [
    "1) Packages utilisés"
   ]
  },
  {
   "cell_type": "code",
   "execution_count": 51,
   "id": "3aba584b",
   "metadata": {},
   "outputs": [],
   "source": [
    "import numpy as np \n",
    "import pandas as pd\n",
    "import matplotlib.pyplot as plt\n",
    "import time\n",
    "\n",
    "from multiprocessing import cpu_count    \n",
    "from joblib import Parallel   # Pour la parallélisation\n",
    "from joblib import delayed\n"
   ]
  },
  {
   "cell_type": "markdown",
   "id": "8e050e39",
   "metadata": {},
   "source": [
    "2) Importation des donnéés"
   ]
  },
  {
   "cell_type": "code",
   "execution_count": 52,
   "id": "e9e6cc2d",
   "metadata": {},
   "outputs": [
    {
     "name": "stdout",
     "output_type": "stream",
     "text": [
      "73\n"
     ]
    },
    {
     "data": {
      "text/plain": [
       "0     83.38\n",
       "1    140.10\n",
       "2    -69.00\n",
       "3    -35.68\n",
       "4     42.24\n",
       "Name: change_in_doll, dtype: float64"
      ]
     },
     "execution_count": 52,
     "metadata": {},
     "output_type": "execute_result"
    }
   ],
   "source": [
    "df = pd.read_excel(r\"/Users/marcimhof/Documents/bit_coin/bit_coin_price.xlsx\")\n",
    "data = df[\"change_in_doll\"]\n",
    "print(len(data))\n",
    "data.head()"
   ]
  },
  {
   "cell_type": "markdown",
   "id": "ae7b6a8a",
   "metadata": {},
   "source": [
    "3) Transformation en série temporelle\n",
    "\n",
    "Ici on se place dans le cadre de série temporelle donc on va chercher à prevoir chaque Yt en fonction d'un nombre définit de Xt (Xt-n,...,Xt)"
   ]
  },
  {
   "cell_type": "code",
   "execution_count": 53,
   "id": "4ac48c49",
   "metadata": {},
   "outputs": [
    {
     "data": {
      "text/plain": [
       "(array([[1, 2, 3],\n",
       "        [2, 3, 4],\n",
       "        [3, 4, 5],\n",
       "        [4, 5, 6],\n",
       "        [5, 6, 7],\n",
       "        [6, 7, 8]]),\n",
       " array([[4],\n",
       "        [5],\n",
       "        [6],\n",
       "        [7],\n",
       "        [8],\n",
       "        [9]]))"
      ]
     },
     "execution_count": 53,
     "metadata": {},
     "output_type": "execute_result"
    }
   ],
   "source": [
    "def make_time_serie(data, n_step_in, n_step_out):\n",
    "    X, Y = list(), list()\n",
    "    for i in range(len(data)):\n",
    "        end_patt = i + n_step_in\n",
    "        out_end = end_patt + n_step_out\n",
    "        if out_end > len(data):\n",
    "            break\n",
    "        seq_X, seq_Y  = data[i:end_patt], data[end_patt:out_end] \n",
    "        X.append(seq_X)\n",
    "        Y.append(seq_Y)\n",
    "    return np.array(X), np.array(Y)\n",
    "\n",
    "X, Y = make_time_serie(data, n_step_in = 4, n_step_out = 1)\n",
    "example = [1,2,3,4,5,6,7,8,9]\n",
    "make_time_serie(example,3,1)"
   ]
  },
  {
   "cell_type": "markdown",
   "id": "facb96e2",
   "metadata": {},
   "source": [
    "II./ Création du modèle"
   ]
  },
  {
   "cell_type": "markdown",
   "id": "c7dc85a9",
   "metadata": {},
   "source": [
    "1) Fonctions utiles \n",
    "\n",
    "On retrouve ici les fonctions pour normaliser, plutot standardiser ici.\n",
    "On standardise Y avec la même métrique que X pour garder la cohérence."
   ]
  },
  {
   "cell_type": "code",
   "execution_count": 54,
   "id": "e67f5e76",
   "metadata": {},
   "outputs": [],
   "source": [
    "def standardise(X, Y):\n",
    "    mean = np.mean(X)\n",
    "    std = np.std(X)\n",
    "    X = (X - mean) / std\n",
    "    Y = (Y - mean) / std\n",
    "    return X, Y, mean, std\n",
    "\n",
    "def reverse_standardise(X, mean, std): \n",
    "    X = np.dot(X,std) + mean\n",
    "    return X"
   ]
  },
  {
   "cell_type": "markdown",
   "id": "a889a4a5",
   "metadata": {},
   "source": [
    "On retrouve ici les fonction d'activations des couches cachés et de sorties"
   ]
  },
  {
   "cell_type": "code",
   "execution_count": 55,
   "id": "dfff7633",
   "metadata": {},
   "outputs": [],
   "source": [
    "def relu(z, derivative = False):\n",
    "    if derivative :\n",
    "        return np.where(z <= 0, 0, 1)\n",
    "    return np.where(z <= 0, 0, z)\n",
    "\n",
    "def prelu(z, alpha = 0.5, derivative = False): \n",
    "    if derivative :\n",
    "        return np.where(z <= 0, alpha, 1)\n",
    "    return np.where(z <= 0, alpha*z, z)\n",
    "\n",
    "def linear(z, alpha = 0.5, derivative = False): \n",
    "    if derivative :\n",
    "        return alpha * np.ones(len(z))\n",
    "    return alpha * z\n",
    "\n",
    "def identity(z, derivative = False):\n",
    "    if derivative:\n",
    "        return (1)\n",
    "    return z"
   ]
  },
  {
   "cell_type": "markdown",
   "id": "b6928b8d",
   "metadata": {},
   "source": [
    "Les fonctions loss pour minimiser l'erreur des prédictions"
   ]
  },
  {
   "cell_type": "code",
   "execution_count": 56,
   "id": "466a873d",
   "metadata": {},
   "outputs": [],
   "source": [
    "def log_cosh_loss(w1, w2, h2, y, n_step_in, periode):\n",
    "    return np.log(np.cosh(y[periode] - h2)).sum()\n",
    "\n",
    "def loss_MSE(w1, w2, h2, y, n_step_in, periode):\n",
    "    return (np.square(y[periode] - h2).sum()) / len(y[periode])"
   ]
  },
  {
   "cell_type": "markdown",
   "id": "14312340",
   "metadata": {},
   "source": [
    "2) Création du modèle"
   ]
  },
  {
   "cell_type": "code",
   "execution_count": 57,
   "id": "bf033e12",
   "metadata": {},
   "outputs": [],
   "source": [
    "\"\"\" Initialisation \"\"\"\n",
    "def init(X, output_dim, hidden_dim, input_dim):\n",
    "    np.random.seed(222)\n",
    "    w1 = np.random.randn(input_dim, hidden_dim)\n",
    "    w2 = np.random.randn(hidden_dim, output_dim)\n",
    "    w1 = w1 / np.sqrt(input_dim)   # On divise par la racine de la dimension pour homogénéiser\n",
    "    w2 = w2 / np.sqrt(hidden_dim)\n",
    "    return w1, w2\n",
    "\n",
    "\"\"\" La partie forward du modèle \"\"\"\n",
    "\n",
    "\"\"\" On divise en plusieurs cas en fonction des fonctions d'activations \"\"\"\n",
    "def modele(X, weights, periode, hidden_layer, output_layer,coeff_prelu , coeff_linear):\n",
    "    if hidden_layer == \"relu\":\n",
    "        h1 = relu(np.matmul(X[periode], weights[0]))\n",
    "        if output_layer == \"linear\":\n",
    "            h2 = linear(np.matmul(h1, weights[1]), coeff_linear) # Coeff correspond au f(x) = ax\n",
    "        elif output_layer == \"identity\":\n",
    "            h2 = identity(np.matmul(h1, weights[1]))\n",
    "    elif hidden_layer == \"prelu\":\n",
    "        h1 = prelu(np.matmul(X[periode], weights[0]), coeff_prelu)\n",
    "        if output_layer == \"linear\":\n",
    "            h2 = linear(np.matmul(h1, weights[1]), coeff_linear)\n",
    "        elif output_layer == \"identity\":\n",
    "            h2 = identity(np.matmul(h1, weights[1]))\n",
    "    return h1, h2\n",
    "\n",
    "\"\"\" On calcule les gradients des poids qu'on cherche à minimiser \"\"\"\n",
    "def gradient(w1, w2, h1, h2, X, Y, periode, loss_func, hidd_activation, output_activation, coeff_prelu, coeff_linear):\n",
    "    dz2_dw2 = h1.reshape(h1.shape[0],1) # on doit reshape pour pouvoir faire du calcul matricielle \n",
    "    dz2_dh1 = w2\n",
    "    \n",
    "    if loss_func == \"MSE\":\n",
    "        dL_dh2 = -2 * (Y[periode] - h2)\n",
    "        if output_activation == \"linear\":\n",
    "            dh2_dz2 = linear(np.matmul(h1, w2), coeff_linear, derivative = True)\n",
    "            if hidd_activation == \"prelu\":\n",
    "                dh1_dz1 = prelu(np.matmul(X[periode], w1), coeff_prelu, derivative = True)\n",
    "            elif hidd_activation == \"relu\":\n",
    "                dh1_dz1 = relu(np.matmul(X[periode], w1), derivative = True)\n",
    "        elif output_activation == \"identity\":\n",
    "            dh2_dz2 = identity(np.matmul(h1, w2), derivative = True)\n",
    "            if hidd_activation == \"prelu\":\n",
    "                dh1_dz1 = prelu(np.matmul(X[periode], w1), coeff_prelu, derivative = True)\n",
    "            elif hidd_activation == \"relu\":\n",
    "                dh1_dz1 = relu(np.matmul(X[periode], w1), derivative = True)\n",
    "                \n",
    "    if loss_func == \"log_cosh_loss\":\n",
    "        dL_dh2 = - np.tanh(Y[periode] - h2)\n",
    "        if output_activation == \"linear\":\n",
    "            dh2_dz2 = linear(np.matmul(h1, w2), coeff_linear, derivative = True)\n",
    "            if hidd_activation == \"prelu\":\n",
    "                dh1_dz1 = prelu(np.matmul(X[periode], w1), coeff_prelu, derivative = True)\n",
    "            elif hidd_activation == \"relu\":\n",
    "                dh1_dz1 = relu(np.matmul(X[periode], w1), derivative = True)\n",
    "        elif output_activation == \"identity\":\n",
    "            dh2_dz2 = identity(np.matmul(h1, w2), derivative = True)\n",
    "            if hidd_activation == \"prelu\":\n",
    "                dh1_dz1 = prelu(np.matmul(X[periode], w1), coeff_prelu, derivative = True)\n",
    "            elif hidd_activation == \"relu\":\n",
    "                dh1_dz1 = relu(np.matmul(X[periode], w1), derivative = True)\n",
    "    \n",
    "    A = dL_dh2 * dh2_dz2\n",
    "    A = A.reshape(1, A.shape[0])\n",
    "    dL_dw2 = np.matmul(dz2_dw2, A)\n",
    "    \n",
    "    dL_dz2 = dL_dh2 * dh2_dz2 \n",
    "    dL_dh1 = np.matmul(dL_dz2, (dz2_dh1.T))\n",
    "    dz1_dw1 = X[periode].reshape(X[periode].shape[0],1)\n",
    "    A = dL_dh1 * dh1_dz1\n",
    "    A = A.reshape(1, A.shape[0])\n",
    "    dL_dw1 = np.matmul(dz1_dw1, A)\n",
    "    \n",
    "    return dL_dw1, dL_dw2\n",
    "\n",
    "\"\"\" On soustrait l'erreur (descente de gradient)\"\"\"\n",
    "def update(w1, w2, dL_dw1, dL_dw2, learning_rate):\n",
    "    w1 = w1 - (learning_rate*dL_dw1)\n",
    "    w2 = w2 - (learning_rate*dL_dw2)\n",
    "    return w1, w2\n",
    "\n",
    "\"\"\" Prediction pour une période (un certain nombre de Xt données)\"\"\"\n",
    "def predict(X, w1, w2, periode, hidden_layer, output_layer, coeff_prelu , coeff_linear):\n",
    "    h1, h2 = modele(X, [w1,w2], periode, hidden_layer, output_layer, coeff_prelu , coeff_linear)\n",
    "    return h2"
   ]
  },
  {
   "cell_type": "code",
   "execution_count": 58,
   "id": "8b49880a",
   "metadata": {},
   "outputs": [],
   "source": [
    "\"\"\" On implémente le forward et le backward, autrement dit on implémente toutes les fonctions dans cette fonction \"\"\"\n",
    "def MLP_Regressor(X, Y, learning_rate, n_iter, N, layer_hidden_dim,\n",
    "                 n_step_in, n_step_out, loss_func, hidd_activation,\n",
    "                 output_activation, alpha, beta):\n",
    "    \n",
    "    w1, w2 = init(X, output_dim = n_step_out, hidden_dim = layer_hidden_dim, input_dim = n_step_in)\n",
    "    Loss = []  # On crée une liste pour avoir l'erreur à chaque itération dans la descente de gradient\n",
    "    y_pred = []\n",
    "    for j in range(N): # Pour parcourir la série temporelle\n",
    "        for i in range(n_iter): # Nombre d'itération pour la descente de gradient\n",
    "            h1, h2 = modele(X, [w1, w2], j, hidden_layer = hidd_activation, output_layer = output_activation, \n",
    "                            coeff_prelu = alpha, coeff_linear = beta)\n",
    "            if loss_func == \"MSE\":\n",
    "                Loss.append(loss_MSE(w1, w2, h2, Y, n_step_in, j))\n",
    "            elif loss_func == \"log_cosh_loss\": \n",
    "                Loss.append(log_cosh_loss(w1, w2, h2, Y, n_step_in, j))\n",
    "            dL_dw1, dL_dw2 = gradient(w1, w2, h1, h2, X, Y, j, loss_func, hidd_activation, \n",
    "                                      output_activation, coeff_prelu = alpha, coeff_linear = beta)\n",
    "            w1, w2 = update(w1, w2, dL_dw1, dL_dw2, learning_rate)  # On met à jour les poids avec les gradients\n",
    "        y_pred.append(predict(X, w1, w2, j, hidden_layer = hidd_activation, \n",
    "                              output_layer = output_activation, coeff_prelu = alpha, coeff_linear = beta))\n",
    "        # On stock dans y_pred les prédictions d'entrainement \n",
    "    \n",
    "    return y_pred, w1, w2, dL_dw1, dL_dw2, h1, h2\n"
   ]
  },
  {
   "cell_type": "markdown",
   "id": "d4261564",
   "metadata": {},
   "source": [
    "III./ Walk forward validation\n",
    "\n",
    "Comme nous sommes dans le cadre d'une série temporelle on ne peut pas parler de cross validation car les Xt ne sont pas indépendants. Chaque Xt dépend de ses valeurs précendentes.\n",
    "\n",
    "On ne peut donc pas prendre plusieurs échantillons avec un ordre aléatoire.\n",
    "\n",
    "Une méthode possible est la walk forward validation."
   ]
  },
  {
   "cell_type": "code",
   "execution_count": 59,
   "id": "63bb39c3",
   "metadata": {},
   "outputs": [],
   "source": [
    "\"\"\" On va créer une liste contenant toutes les possibilités des paramètres à configurer\"\"\"\n",
    "\n",
    "def parametre(data):\n",
    "    loss_param = [\"MSE\", \"log_cosh_loss\"]\n",
    "    hidd_acti_param = [\"prelu\", \"relu\"]\n",
    "    output_acti_param = [\"identity\", \"linear\"]\n",
    "    iter_param = [100, 200, 500]\n",
    "    learning_param = [0.01, 0.001]\n",
    "    hidd_dim_param = [5, 10, 15]\n",
    "    alpha_param = [0.1, 0.5, 1.5]\n",
    "    beta_param = [0.1, 0.5, 1.5]\n",
    "    model = list()\n",
    "    for loss_i in loss_param : \n",
    "        for hidd_dim_i in hidd_dim_param:\n",
    "            for output_acti_i in output_acti_param:\n",
    "                for iter_i in iter_param : \n",
    "                    for learning_i in learning_param:\n",
    "                        for hidd_acti_i in hidd_acti_param:\n",
    "                            for alpha_i in alpha_param:\n",
    "                                for beta_i in beta_param:\n",
    "                                    config = [learning_i, 1, iter_i, hidd_dim_i, loss_i, hidd_acti_i, output_acti_i,\n",
    "                                             alpha_i, beta_i]\n",
    "                                    model.append(config)\n",
    "    return model\n",
    "\n"
   ]
  },
  {
   "cell_type": "markdown",
   "id": "ba767c4c",
   "metadata": {},
   "source": [
    "Parallélisation pour optimiser les performances. \n",
    "\n",
    "Si l'on veut tester de nombreux paramètres, la charge de calcul peut devenir conséquente.\n",
    "Ainsi en améliorant les performances on économise beaucoup de temps. "
   ]
  },
  {
   "cell_type": "code",
   "execution_count": 60,
   "id": "90117424",
   "metadata": {},
   "outputs": [],
   "source": [
    "\"\"\" Création de la fonction qui va scorer une configuration de paramètre afin de les classer ultérieurement \"\"\"\n",
    "def score(data, cfg, start_size, n_step_out):\n",
    "    size = 0\n",
    "    min_size = start_size\n",
    "    n_step_out_i = n_step_out\n",
    "    test = []\n",
    "    reel = []\n",
    "    for n_step_in_i in range(min_size, len(data) - n_step_out_i):\n",
    "        X, Y = make_time_serie(data, n_step_in = n_step_in_i, n_step_out = n_step_out_i)\n",
    "        X, Y, mu, sigma = standardise(X,Y)\n",
    "        y_pred, w1, w2, dL_dw1, dL_dw2, h1, h2 = MLP_Regressor(X, Y, learning_rate = cfg[0], n_iter = cfg[2], N = cfg[1], \n",
    "                                                               layer_hidden_dim = cfg[3],\n",
    "                                                               n_step_in = n_step_in_i, n_step_out = n_step_out_i, \n",
    "                                                               loss_func = cfg[4], hidd_activation = cfg[5], \n",
    "                                                               output_activation = cfg[6], \n",
    "                                                               alpha = cfg[7], beta = cfg[8])\n",
    "        \n",
    "        temp = predict(X, w1, w2, size, hidden_layer = cfg[5], output_layer = cfg[6], \n",
    "                       coeff_prelu = cfg[7], coeff_linear = cfg[8])\n",
    "        temp = reverse_standardise(temp, mu, sigma)\n",
    "        Y = reverse_standardise(Y, mu, sigma)\n",
    "        test.append(temp)\n",
    "        reel.append(Y[size])\n",
    "    MSE = np.abs(np.array(reel) - np.array(test)).sum() / len(test)\n",
    "    \n",
    "    key = cfg\n",
    "    return MSE, key\n",
    "\n",
    "\"\"\" Création de la validation en parallélisant les calculs \"\"\"\n",
    "def walking_forward_validation(data, start_size, n_step_out):\n",
    "    model = parametre(data)\n",
    "    score_MSE = Parallel(n_jobs = cpu_count())(delayed(score)(data, cfg, start_size, n_step_out) for cfg in model)\n",
    "    score_MSE.sort(key=lambda tup:tup[0], reverse = False) # Trie la liste des scores par la plus petite MSE \n",
    "    return score_MSE"
   ]
  },
  {
   "cell_type": "markdown",
   "id": "3ac027f0",
   "metadata": {},
   "source": [
    "IV/ Test et performances du modèles\n",
    "\n",
    "Il est temps de visualiser les performances du modèles après paramétrage.\n",
    "\n",
    "On peut évaluer les performances sur plusieurs métriques en gardant à l'idée leur signification.\n",
    "\n",
    "Pour ce faire on va séparer la série en 2 échantillons train et test (garder à l'esprit que l'on ne pas séparer aléatoirement)\n",
    "\n",
    "Pour le train, le modèle apprendra avec la descente de gradient.\n",
    "\n",
    "On évalue la performance sur le test dont on connait la valeur.\n",
    "Le modèle ne pourra plus se perfectionner sur le test, les poids resteront inchangés."
   ]
  },
  {
   "cell_type": "code",
   "execution_count": 61,
   "id": "bb335e0a",
   "metadata": {},
   "outputs": [
    {
     "name": "stderr",
     "output_type": "stream",
     "text": [
      "/var/folders/5t/cfgqcsys329cs7f34xvndj700000gn/T/ipykernel_47299/3440856341.py:5: RuntimeWarning: overflow encountered in square\n",
      "/var/folders/5t/cfgqcsys329cs7f34xvndj700000gn/T/ipykernel_47299/2815503978.py:25: RuntimeWarning: overflow encountered in matmul\n",
      "/var/folders/5t/cfgqcsys329cs7f34xvndj700000gn/T/ipykernel_47299/2815503978.py:25: RuntimeWarning: invalid value encountered in matmul\n",
      "/var/folders/5t/cfgqcsys329cs7f34xvndj700000gn/T/ipykernel_47299/2815503978.py:42: RuntimeWarning: overflow encountered in matmul\n",
      "/var/folders/5t/cfgqcsys329cs7f34xvndj700000gn/T/ipykernel_47299/2815503978.py:42: RuntimeWarning: invalid value encountered in matmul\n",
      "/var/folders/5t/cfgqcsys329cs7f34xvndj700000gn/T/ipykernel_47299/3440856341.py:5: RuntimeWarning: overflow encountered in square\n",
      "/var/folders/5t/cfgqcsys329cs7f34xvndj700000gn/T/ipykernel_47299/2815503978.py:25: RuntimeWarning: overflow encountered in matmul\n",
      "/var/folders/5t/cfgqcsys329cs7f34xvndj700000gn/T/ipykernel_47299/2815503978.py:25: RuntimeWarning: invalid value encountered in matmul\n",
      "/var/folders/5t/cfgqcsys329cs7f34xvndj700000gn/T/ipykernel_47299/2815503978.py:42: RuntimeWarning: overflow encountered in matmul\n",
      "/var/folders/5t/cfgqcsys329cs7f34xvndj700000gn/T/ipykernel_47299/2815503978.py:42: RuntimeWarning: invalid value encountered in matmul\n",
      "/var/folders/5t/cfgqcsys329cs7f34xvndj700000gn/T/ipykernel_47299/3440856341.py:5: RuntimeWarning: overflow encountered in square\n",
      "/var/folders/5t/cfgqcsys329cs7f34xvndj700000gn/T/ipykernel_47299/2815503978.py:25: RuntimeWarning: overflow encountered in matmul\n",
      "/var/folders/5t/cfgqcsys329cs7f34xvndj700000gn/T/ipykernel_47299/2815503978.py:25: RuntimeWarning: invalid value encountered in matmul\n",
      "/var/folders/5t/cfgqcsys329cs7f34xvndj700000gn/T/ipykernel_47299/2815503978.py:42: RuntimeWarning: overflow encountered in matmul\n",
      "/var/folders/5t/cfgqcsys329cs7f34xvndj700000gn/T/ipykernel_47299/2815503978.py:42: RuntimeWarning: invalid value encountered in matmul\n",
      "/var/folders/5t/cfgqcsys329cs7f34xvndj700000gn/T/ipykernel_47299/3440856341.py:5: RuntimeWarning: overflow encountered in square\n",
      "/var/folders/5t/cfgqcsys329cs7f34xvndj700000gn/T/ipykernel_47299/2815503978.py:25: RuntimeWarning: overflow encountered in matmul\n",
      "/var/folders/5t/cfgqcsys329cs7f34xvndj700000gn/T/ipykernel_47299/2815503978.py:25: RuntimeWarning: invalid value encountered in matmul\n",
      "/var/folders/5t/cfgqcsys329cs7f34xvndj700000gn/T/ipykernel_47299/2815503978.py:42: RuntimeWarning: overflow encountered in matmul\n",
      "/var/folders/5t/cfgqcsys329cs7f34xvndj700000gn/T/ipykernel_47299/2815503978.py:42: RuntimeWarning: invalid value encountered in matmul\n",
      "/var/folders/5t/cfgqcsys329cs7f34xvndj700000gn/T/ipykernel_47299/3440856341.py:5: RuntimeWarning: overflow encountered in square\n",
      "/var/folders/5t/cfgqcsys329cs7f34xvndj700000gn/T/ipykernel_47299/2815503978.py:25: RuntimeWarning: overflow encountered in matmul\n",
      "/var/folders/5t/cfgqcsys329cs7f34xvndj700000gn/T/ipykernel_47299/2815503978.py:25: RuntimeWarning: invalid value encountered in matmul\n",
      "/var/folders/5t/cfgqcsys329cs7f34xvndj700000gn/T/ipykernel_47299/2815503978.py:42: RuntimeWarning: overflow encountered in matmul\n",
      "/var/folders/5t/cfgqcsys329cs7f34xvndj700000gn/T/ipykernel_47299/2815503978.py:42: RuntimeWarning: invalid value encountered in matmul\n",
      "/var/folders/5t/cfgqcsys329cs7f34xvndj700000gn/T/ipykernel_47299/3440856341.py:5: RuntimeWarning: overflow encountered in square\n",
      "/var/folders/5t/cfgqcsys329cs7f34xvndj700000gn/T/ipykernel_47299/2815503978.py:25: RuntimeWarning: overflow encountered in matmul\n",
      "/var/folders/5t/cfgqcsys329cs7f34xvndj700000gn/T/ipykernel_47299/2815503978.py:25: RuntimeWarning: invalid value encountered in matmul\n",
      "/var/folders/5t/cfgqcsys329cs7f34xvndj700000gn/T/ipykernel_47299/2815503978.py:42: RuntimeWarning: overflow encountered in matmul\n",
      "/var/folders/5t/cfgqcsys329cs7f34xvndj700000gn/T/ipykernel_47299/2815503978.py:42: RuntimeWarning: invalid value encountered in matmul\n",
      "/var/folders/5t/cfgqcsys329cs7f34xvndj700000gn/T/ipykernel_47299/3440856341.py:5: RuntimeWarning: overflow encountered in square\n",
      "/var/folders/5t/cfgqcsys329cs7f34xvndj700000gn/T/ipykernel_47299/2815503978.py:25: RuntimeWarning: overflow encountered in matmul\n",
      "/var/folders/5t/cfgqcsys329cs7f34xvndj700000gn/T/ipykernel_47299/2815503978.py:25: RuntimeWarning: invalid value encountered in matmul\n",
      "/var/folders/5t/cfgqcsys329cs7f34xvndj700000gn/T/ipykernel_47299/2815503978.py:42: RuntimeWarning: overflow encountered in matmul\n",
      "/var/folders/5t/cfgqcsys329cs7f34xvndj700000gn/T/ipykernel_47299/2815503978.py:42: RuntimeWarning: invalid value encountered in matmul\n",
      "/var/folders/5t/cfgqcsys329cs7f34xvndj700000gn/T/ipykernel_47299/3440856341.py:5: RuntimeWarning: overflow encountered in square\n",
      "/var/folders/5t/cfgqcsys329cs7f34xvndj700000gn/T/ipykernel_47299/2815503978.py:25: RuntimeWarning: overflow encountered in matmul\n",
      "/var/folders/5t/cfgqcsys329cs7f34xvndj700000gn/T/ipykernel_47299/2815503978.py:25: RuntimeWarning: invalid value encountered in matmul\n",
      "/var/folders/5t/cfgqcsys329cs7f34xvndj700000gn/T/ipykernel_47299/2815503978.py:42: RuntimeWarning: overflow encountered in matmul\n",
      "/var/folders/5t/cfgqcsys329cs7f34xvndj700000gn/T/ipykernel_47299/2815503978.py:42: RuntimeWarning: invalid value encountered in matmul\n",
      "/var/folders/5t/cfgqcsys329cs7f34xvndj700000gn/T/ipykernel_47299/3440856341.py:5: RuntimeWarning: overflow encountered in square\n",
      "/var/folders/5t/cfgqcsys329cs7f34xvndj700000gn/T/ipykernel_47299/2815503978.py:25: RuntimeWarning: overflow encountered in matmul\n",
      "/var/folders/5t/cfgqcsys329cs7f34xvndj700000gn/T/ipykernel_47299/2815503978.py:25: RuntimeWarning: invalid value encountered in matmul\n",
      "/var/folders/5t/cfgqcsys329cs7f34xvndj700000gn/T/ipykernel_47299/2815503978.py:42: RuntimeWarning: overflow encountered in matmul\n",
      "/var/folders/5t/cfgqcsys329cs7f34xvndj700000gn/T/ipykernel_47299/2815503978.py:42: RuntimeWarning: invalid value encountered in matmul\n",
      "/var/folders/5t/cfgqcsys329cs7f34xvndj700000gn/T/ipykernel_47299/2815503978.py:23: RuntimeWarning: overflow encountered in matmul\n",
      "/var/folders/5t/cfgqcsys329cs7f34xvndj700000gn/T/ipykernel_47299/2815503978.py:23: RuntimeWarning: invalid value encountered in matmul\n",
      "/var/folders/5t/cfgqcsys329cs7f34xvndj700000gn/T/ipykernel_47299/2815503978.py:36: RuntimeWarning: overflow encountered in matmul\n",
      "/var/folders/5t/cfgqcsys329cs7f34xvndj700000gn/T/ipykernel_47299/2815503978.py:36: RuntimeWarning: invalid value encountered in matmul\n",
      "/var/folders/5t/cfgqcsys329cs7f34xvndj700000gn/T/ipykernel_47299/3440856341.py:5: RuntimeWarning: overflow encountered in square\n",
      "/var/folders/5t/cfgqcsys329cs7f34xvndj700000gn/T/ipykernel_47299/2815503978.py:78: RuntimeWarning: invalid value encountered in subtract\n",
      "/var/folders/5t/cfgqcsys329cs7f34xvndj700000gn/T/ipykernel_47299/2815503978.py:79: RuntimeWarning: invalid value encountered in subtract\n",
      "/var/folders/5t/cfgqcsys329cs7f34xvndj700000gn/T/ipykernel_47299/2815503978.py:65: RuntimeWarning: overflow encountered in matmul\n",
      "/var/folders/5t/cfgqcsys329cs7f34xvndj700000gn/T/ipykernel_47299/2815503978.py:68: RuntimeWarning: overflow encountered in matmul\n",
      "/var/folders/5t/cfgqcsys329cs7f34xvndj700000gn/T/ipykernel_47299/2815503978.py:23: RuntimeWarning: overflow encountered in matmul\n",
      "/var/folders/5t/cfgqcsys329cs7f34xvndj700000gn/T/ipykernel_47299/2815503978.py:23: RuntimeWarning: invalid value encountered in matmul\n",
      "/var/folders/5t/cfgqcsys329cs7f34xvndj700000gn/T/ipykernel_47299/2815503978.py:36: RuntimeWarning: overflow encountered in matmul\n",
      "/var/folders/5t/cfgqcsys329cs7f34xvndj700000gn/T/ipykernel_47299/2815503978.py:36: RuntimeWarning: invalid value encountered in matmul\n",
      "/var/folders/5t/cfgqcsys329cs7f34xvndj700000gn/T/ipykernel_47299/3440856341.py:5: RuntimeWarning: overflow encountered in square\n",
      "/var/folders/5t/cfgqcsys329cs7f34xvndj700000gn/T/ipykernel_47299/2815503978.py:78: RuntimeWarning: invalid value encountered in subtract\n",
      "/var/folders/5t/cfgqcsys329cs7f34xvndj700000gn/T/ipykernel_47299/2815503978.py:79: RuntimeWarning: invalid value encountered in subtract\n",
      "/var/folders/5t/cfgqcsys329cs7f34xvndj700000gn/T/ipykernel_47299/2815503978.py:65: RuntimeWarning: overflow encountered in matmul\n",
      "/var/folders/5t/cfgqcsys329cs7f34xvndj700000gn/T/ipykernel_47299/2815503978.py:68: RuntimeWarning: overflow encountered in matmul\n"
     ]
    },
    {
     "name": "stderr",
     "output_type": "stream",
     "text": [
      "/var/folders/5t/cfgqcsys329cs7f34xvndj700000gn/T/ipykernel_47299/2815503978.py:23: RuntimeWarning: overflow encountered in matmul\n",
      "/var/folders/5t/cfgqcsys329cs7f34xvndj700000gn/T/ipykernel_47299/2815503978.py:23: RuntimeWarning: invalid value encountered in matmul\n",
      "/var/folders/5t/cfgqcsys329cs7f34xvndj700000gn/T/ipykernel_47299/2815503978.py:36: RuntimeWarning: overflow encountered in matmul\n",
      "/var/folders/5t/cfgqcsys329cs7f34xvndj700000gn/T/ipykernel_47299/2815503978.py:36: RuntimeWarning: invalid value encountered in matmul\n",
      "/var/folders/5t/cfgqcsys329cs7f34xvndj700000gn/T/ipykernel_47299/3440856341.py:5: RuntimeWarning: overflow encountered in square\n",
      "/var/folders/5t/cfgqcsys329cs7f34xvndj700000gn/T/ipykernel_47299/2815503978.py:78: RuntimeWarning: invalid value encountered in subtract\n",
      "/var/folders/5t/cfgqcsys329cs7f34xvndj700000gn/T/ipykernel_47299/2815503978.py:79: RuntimeWarning: invalid value encountered in subtract\n",
      "/var/folders/5t/cfgqcsys329cs7f34xvndj700000gn/T/ipykernel_47299/2815503978.py:65: RuntimeWarning: overflow encountered in matmul\n",
      "/var/folders/5t/cfgqcsys329cs7f34xvndj700000gn/T/ipykernel_47299/2815503978.py:68: RuntimeWarning: overflow encountered in matmul\n",
      "/var/folders/5t/cfgqcsys329cs7f34xvndj700000gn/T/ipykernel_47299/3440856341.py:5: RuntimeWarning: overflow encountered in square\n",
      "/var/folders/5t/cfgqcsys329cs7f34xvndj700000gn/T/ipykernel_47299/2815503978.py:23: RuntimeWarning: overflow encountered in matmul\n",
      "/var/folders/5t/cfgqcsys329cs7f34xvndj700000gn/T/ipykernel_47299/2815503978.py:23: RuntimeWarning: invalid value encountered in matmul\n",
      "/var/folders/5t/cfgqcsys329cs7f34xvndj700000gn/T/ipykernel_47299/2815503978.py:36: RuntimeWarning: overflow encountered in matmul\n",
      "/var/folders/5t/cfgqcsys329cs7f34xvndj700000gn/T/ipykernel_47299/2815503978.py:36: RuntimeWarning: invalid value encountered in matmul\n",
      "/var/folders/5t/cfgqcsys329cs7f34xvndj700000gn/T/ipykernel_47299/2815503978.py:78: RuntimeWarning: invalid value encountered in subtract\n",
      "/var/folders/5t/cfgqcsys329cs7f34xvndj700000gn/T/ipykernel_47299/2815503978.py:79: RuntimeWarning: invalid value encountered in subtract\n",
      "/var/folders/5t/cfgqcsys329cs7f34xvndj700000gn/T/ipykernel_47299/2815503978.py:65: RuntimeWarning: overflow encountered in matmul\n",
      "/var/folders/5t/cfgqcsys329cs7f34xvndj700000gn/T/ipykernel_47299/2815503978.py:68: RuntimeWarning: overflow encountered in matmul\n",
      "/var/folders/5t/cfgqcsys329cs7f34xvndj700000gn/T/ipykernel_47299/3440856341.py:5: RuntimeWarning: overflow encountered in square\n",
      "/var/folders/5t/cfgqcsys329cs7f34xvndj700000gn/T/ipykernel_47299/2815503978.py:23: RuntimeWarning: overflow encountered in matmul\n",
      "/var/folders/5t/cfgqcsys329cs7f34xvndj700000gn/T/ipykernel_47299/2815503978.py:23: RuntimeWarning: invalid value encountered in matmul\n",
      "/var/folders/5t/cfgqcsys329cs7f34xvndj700000gn/T/ipykernel_47299/2815503978.py:36: RuntimeWarning: overflow encountered in matmul\n",
      "/var/folders/5t/cfgqcsys329cs7f34xvndj700000gn/T/ipykernel_47299/2815503978.py:36: RuntimeWarning: invalid value encountered in matmul\n",
      "/var/folders/5t/cfgqcsys329cs7f34xvndj700000gn/T/ipykernel_47299/2815503978.py:78: RuntimeWarning: invalid value encountered in subtract\n",
      "/var/folders/5t/cfgqcsys329cs7f34xvndj700000gn/T/ipykernel_47299/2815503978.py:79: RuntimeWarning: invalid value encountered in subtract\n",
      "/var/folders/5t/cfgqcsys329cs7f34xvndj700000gn/T/ipykernel_47299/2815503978.py:65: RuntimeWarning: overflow encountered in matmul\n",
      "/var/folders/5t/cfgqcsys329cs7f34xvndj700000gn/T/ipykernel_47299/2815503978.py:68: RuntimeWarning: overflow encountered in matmul\n",
      "/var/folders/5t/cfgqcsys329cs7f34xvndj700000gn/T/ipykernel_47299/3440856341.py:5: RuntimeWarning: overflow encountered in square\n",
      "/var/folders/5t/cfgqcsys329cs7f34xvndj700000gn/T/ipykernel_47299/2815503978.py:23: RuntimeWarning: overflow encountered in matmul\n",
      "/var/folders/5t/cfgqcsys329cs7f34xvndj700000gn/T/ipykernel_47299/2815503978.py:23: RuntimeWarning: invalid value encountered in matmul\n",
      "/var/folders/5t/cfgqcsys329cs7f34xvndj700000gn/T/ipykernel_47299/2815503978.py:36: RuntimeWarning: overflow encountered in matmul\n",
      "/var/folders/5t/cfgqcsys329cs7f34xvndj700000gn/T/ipykernel_47299/2815503978.py:36: RuntimeWarning: invalid value encountered in matmul\n",
      "/var/folders/5t/cfgqcsys329cs7f34xvndj700000gn/T/ipykernel_47299/2815503978.py:78: RuntimeWarning: invalid value encountered in subtract\n",
      "/var/folders/5t/cfgqcsys329cs7f34xvndj700000gn/T/ipykernel_47299/2815503978.py:79: RuntimeWarning: invalid value encountered in subtract\n",
      "/var/folders/5t/cfgqcsys329cs7f34xvndj700000gn/T/ipykernel_47299/2815503978.py:65: RuntimeWarning: overflow encountered in matmul\n",
      "/var/folders/5t/cfgqcsys329cs7f34xvndj700000gn/T/ipykernel_47299/2815503978.py:68: RuntimeWarning: overflow encountered in matmul\n",
      "/var/folders/5t/cfgqcsys329cs7f34xvndj700000gn/T/ipykernel_47299/3440856341.py:5: RuntimeWarning: overflow encountered in square\n",
      "/var/folders/5t/cfgqcsys329cs7f34xvndj700000gn/T/ipykernel_47299/2815503978.py:23: RuntimeWarning: overflow encountered in matmul\n",
      "/var/folders/5t/cfgqcsys329cs7f34xvndj700000gn/T/ipykernel_47299/2815503978.py:23: RuntimeWarning: invalid value encountered in matmul\n",
      "/var/folders/5t/cfgqcsys329cs7f34xvndj700000gn/T/ipykernel_47299/2815503978.py:36: RuntimeWarning: overflow encountered in matmul\n",
      "/var/folders/5t/cfgqcsys329cs7f34xvndj700000gn/T/ipykernel_47299/2815503978.py:36: RuntimeWarning: invalid value encountered in matmul\n",
      "/var/folders/5t/cfgqcsys329cs7f34xvndj700000gn/T/ipykernel_47299/2815503978.py:65: RuntimeWarning: overflow encountered in matmul\n",
      "/var/folders/5t/cfgqcsys329cs7f34xvndj700000gn/T/ipykernel_47299/2815503978.py:68: RuntimeWarning: overflow encountered in matmul\n",
      "/var/folders/5t/cfgqcsys329cs7f34xvndj700000gn/T/ipykernel_47299/2815503978.py:78: RuntimeWarning: invalid value encountered in subtract\n",
      "/var/folders/5t/cfgqcsys329cs7f34xvndj700000gn/T/ipykernel_47299/2815503978.py:79: RuntimeWarning: invalid value encountered in subtract\n",
      "/var/folders/5t/cfgqcsys329cs7f34xvndj700000gn/T/ipykernel_47299/3440856341.py:5: RuntimeWarning: overflow encountered in square\n",
      "/var/folders/5t/cfgqcsys329cs7f34xvndj700000gn/T/ipykernel_47299/2815503978.py:23: RuntimeWarning: overflow encountered in matmul\n",
      "/var/folders/5t/cfgqcsys329cs7f34xvndj700000gn/T/ipykernel_47299/2815503978.py:23: RuntimeWarning: invalid value encountered in matmul\n",
      "/var/folders/5t/cfgqcsys329cs7f34xvndj700000gn/T/ipykernel_47299/2815503978.py:36: RuntimeWarning: overflow encountered in matmul\n",
      "/var/folders/5t/cfgqcsys329cs7f34xvndj700000gn/T/ipykernel_47299/2815503978.py:36: RuntimeWarning: invalid value encountered in matmul\n",
      "/var/folders/5t/cfgqcsys329cs7f34xvndj700000gn/T/ipykernel_47299/2815503978.py:65: RuntimeWarning: overflow encountered in matmul\n",
      "/var/folders/5t/cfgqcsys329cs7f34xvndj700000gn/T/ipykernel_47299/2815503978.py:68: RuntimeWarning: overflow encountered in matmul\n",
      "/var/folders/5t/cfgqcsys329cs7f34xvndj700000gn/T/ipykernel_47299/2815503978.py:78: RuntimeWarning: invalid value encountered in subtract\n",
      "/var/folders/5t/cfgqcsys329cs7f34xvndj700000gn/T/ipykernel_47299/2815503978.py:79: RuntimeWarning: invalid value encountered in subtract\n",
      "/var/folders/5t/cfgqcsys329cs7f34xvndj700000gn/T/ipykernel_47299/3440856341.py:5: RuntimeWarning: overflow encountered in square\n",
      "/var/folders/5t/cfgqcsys329cs7f34xvndj700000gn/T/ipykernel_47299/2815503978.py:23: RuntimeWarning: overflow encountered in matmul\n",
      "/var/folders/5t/cfgqcsys329cs7f34xvndj700000gn/T/ipykernel_47299/2815503978.py:23: RuntimeWarning: invalid value encountered in matmul\n",
      "/var/folders/5t/cfgqcsys329cs7f34xvndj700000gn/T/ipykernel_47299/2815503978.py:36: RuntimeWarning: overflow encountered in matmul\n",
      "/var/folders/5t/cfgqcsys329cs7f34xvndj700000gn/T/ipykernel_47299/2815503978.py:36: RuntimeWarning: invalid value encountered in matmul\n",
      "/var/folders/5t/cfgqcsys329cs7f34xvndj700000gn/T/ipykernel_47299/2815503978.py:65: RuntimeWarning: overflow encountered in matmul\n",
      "/var/folders/5t/cfgqcsys329cs7f34xvndj700000gn/T/ipykernel_47299/2815503978.py:68: RuntimeWarning: overflow encountered in matmul\n",
      "/var/folders/5t/cfgqcsys329cs7f34xvndj700000gn/T/ipykernel_47299/2815503978.py:78: RuntimeWarning: invalid value encountered in subtract\n",
      "/var/folders/5t/cfgqcsys329cs7f34xvndj700000gn/T/ipykernel_47299/2815503978.py:79: RuntimeWarning: invalid value encountered in subtract\n"
     ]
    },
    {
     "name": "stdout",
     "output_type": "stream",
     "text": [
      "MSE :  153095873.00444758\n",
      "\n",
      " Best paramètres  :  [0.01, 1, 200, 5, 'MSE', 'prelu', 'identity', 0.5, 1.5]\n",
      "temp d'exécution :  7.016883333333333 min\n"
     ]
    }
   ],
   "source": [
    "\"\"\" On lance le modèle avec les meilleurs paramaètres trouvés\"\"\"\n",
    "\n",
    "def MLP_Regressor_opti(data, start_size, n_step_in, n_step_out, len_test):\n",
    "    test, index = [], []\n",
    "    n_step_in_i = n_step_in\n",
    "    n_step_out_i = n_step_out\n",
    "    best_param = walking_forward_validation(data, start_size , n_step_out = n_step_out_i)[0][1]\n",
    "    X, Y = make_time_serie(data, n_step_in = n_step_in_i, n_step_out = n_step_out_i)\n",
    "    X, Y, mu, sigma = standardise(X,Y)\n",
    "    train_size = len(X) - len_test\n",
    "    y_pred, w1, w2, dL_dw1, dL_dw2, h1, h2 = MLP_Regressor(X, Y, learning_rate = best_param[0], n_iter = best_param[2], N = train_size, \n",
    "                                                           layer_hidden_dim = best_param[3],\n",
    "                                                           n_step_in = n_step_in_i, n_step_out = n_step_out_i, \n",
    "                                                           loss_func = best_param[4], hidd_activation = best_param[5], \n",
    "                                                           output_activation = best_param[6], \n",
    "                                                           alpha = best_param[7], beta = best_param[8])\n",
    "    for i in range(train_size - 1, len(X)):\n",
    "        test.append(predict(X, w1, w2, periode = i, hidden_layer = best_param[5], output_layer = best_param[6],\n",
    "                            coeff_prelu = best_param[7], coeff_linear = best_param[8]))\n",
    "        index.append(i)\n",
    "    test = reverse_standardise(test, mu, sigma)\n",
    "    y_pred = reverse_standardise(y_pred, mu, sigma)\n",
    "    Y = reverse_standardise(Y, mu, sigma)\n",
    "\n",
    "    MSE = np.square(np.array(Y[index]) - np.array(test)).sum() / (len(test))\n",
    "    return MSE, test, y_pred, Y, index, best_param\n",
    "\n",
    "start_time = time.time()\n",
    "\n",
    "MSE, test, y_pred, Y, index, best_param = MLP_Regressor_opti(data, start_size = 40, n_step_in = 2, n_step_out = 1, len_test = 8)\n",
    "print('MSE : ', MSE)\n",
    "print('')\n",
    "print(' Best paramètres  : ',best_param)\n",
    "end_time = time.time()\n",
    "\n",
    "print(\"temp d'exécution : \", round(end_time - start_time,3)/60, \"min\")"
   ]
  },
  {
   "cell_type": "markdown",
   "id": "d10bdc55",
   "metadata": {},
   "source": [
    "On peut visualiser à l'aide d'un plot"
   ]
  },
  {
   "cell_type": "code",
   "execution_count": 62,
   "id": "5be0e3df",
   "metadata": {},
   "outputs": [
    {
     "data": {
      "image/png": "[encoded data removed]",
      "text/plain": [
       "<Figure size 432x288 with 1 Axes>"
      ]
     },
     "metadata": {
      "needs_background": "light"
     },
     "output_type": "display_data"
    },
    {
     "data": {
      "image/png": "[encoded data removed]",
      "text/plain": [
       "<Figure size 432x288 with 1 Axes>"
      ]
     },
     "metadata": {
      "needs_background": "light"
     },
     "output_type": "display_data"
    }
   ],
   "source": [
    "index_train = np.arange(1,len(y_pred))\n",
    "plt.plot(y_pred, color='red')\n",
    "plt.plot(index_train,Y[index_train], color='blue')\n",
    "plt.show()\n",
    "\n",
    "plt.plot(index, test, color='green')\n",
    "plt.plot(index, Y[index], color = 'blue')\n",
    "plt.show()"
   ]
  }
 ],
 "metadata": {
  "kernelspec": {
   "display_name": "Python 3 (ipykernel)",
   "language": "python",
   "name": "python3"
  },
  "language_info": {
   "codemirror_mode": {
    "name": "ipython",
    "version": 3
   },
   "file_extension": ".py",
   "mimetype": "text/x-python",
   "name": "python",
   "nbconvert_exporter": "python",
   "pygments_lexer": "ipython3",
   "version": "3.9.7"
  }
 },
 "nbformat": 4,
 "nbformat_minor": 5
}
